{
 "cells": [
  {
   "cell_type": "markdown",
   "metadata": {},
   "source": [
    "# WingIDE Remote Debugging Together With Jupyter Notebooks\n",
    "\n",
    "Jupyter notebooks have no debugging support at all. Some IDEs integrate notebooks, e.g. PyCharm has a [notebook integration](https://blog.jetbrains.com/pycharm/2014/12/feature-spotlight-ipython-notebook-inside-an-ide/). This kind of integration is rather complicated and depends probably on a lot of internals of the notebook implementation. \n",
    "\n",
    "Python IDEs usually have remote debugging support. Based on this, the idea of this notebook is to show how you can run code a Jupyter notebook and debug \"external\" code imported from regular .py file. "
   ]
  },
  {
   "cell_type": "markdown",
   "metadata": {},
   "source": [
    "This directory has the following files:"
   ]
  },
  {
   "cell_type": "code",
   "execution_count": 1,
   "metadata": {
    "collapsed": false
   },
   "outputs": [
    {
     "name": "stdout",
     "output_type": "stream",
     "text": [
      "total 48\r\n",
      "-rw-r--r-- 1 siena siena   223 Jun  5 03:18 helper.py\r\n",
      "-rw-r--r-- 1 siena siena   269 Jun  4 23:18 jupyter-notebook-debugging.wpr\r\n",
      "-rw-r--r-- 1 siena siena 10995 Jun  4 23:18 jupyter-notebook-debugging.wpu\r\n",
      "-rw-r--r-- 1 siena siena  9579 Jun  5 03:29 notebook.ipynb\r\n",
      "drwxr-xr-x 2 siena siena  4096 Jun  5 03:30 \u001b[0m\u001b[01;34m__pycache__\u001b[0m/\r\n",
      "-rwxr-xr-x 1 siena siena 11859 Jun  4 23:11 \u001b[01;32mwingdbstub.py\u001b[0m*\r\n"
     ]
    }
   ],
   "source": [
    "%ls -l"
   ]
  },
  {
   "cell_type": "markdown",
   "metadata": {},
   "source": [
    "In ``helper.py`` are some functions that we would like to use from this notebook."
   ]
  },
  {
   "cell_type": "code",
   "execution_count": 2,
   "metadata": {
    "collapsed": false
   },
   "outputs": [
    {
     "name": "stdout",
     "output_type": "stream",
     "text": [
      "\r\n",
      "hello = \"Hello, world.\"\r\n",
      "\r\n",
      "def foo():\r\n",
      "    message = \"bar\"  \r\n",
      "    return message     # breakpoint here\r\n",
      "\r\n",
      "def greeting():\r\n",
      "    return hello\r\n",
      "\r\n",
      "def set_greeting(s):\r\n",
      "    hello = s\r\n",
      "    \r\n",
      "def change_list(l):\r\n",
      "    l.append(\"bar\")    \r\n",
      "    "
     ]
    }
   ],
   "source": [
    "%cat helper.py"
   ]
  },
  {
   "cell_type": "markdown",
   "metadata": {},
   "source": [
    "Open this directory as a project in your WingIDE. \n",
    "\n",
    "Then open ``helper.py`` and set a breakpoint in the 4th line where the comment is. "
   ]
  },
  {
   "cell_type": "code",
   "execution_count": 3,
   "metadata": {
    "collapsed": true
   },
   "outputs": [],
   "source": [
    "from helper import *"
   ]
  },
  {
   "cell_type": "code",
   "execution_count": 4,
   "metadata": {
    "collapsed": false
   },
   "outputs": [
    {
     "data": {
      "text/plain": [
       "'bar'"
      ]
     },
     "execution_count": 4,
     "metadata": {},
     "output_type": "execute_result"
    }
   ],
   "source": [
    "foo()"
   ]
  },
  {
   "cell_type": "markdown",
   "metadata": {},
   "source": [
    "It works but WingIDE did not stop at the breakpoint (yet)."
   ]
  },
  {
   "cell_type": "markdown",
   "metadata": {},
   "source": [
    "From the WingIDE [documentation](https://wingware.com/doc/intro/tutorial-debugging-remote): \"First, copy wingdbstub.py out of install directory listed in Wing's About box. Place this in the same directory as example2.py. Next, click on the bug icon in the lower left of Wing IDE's main window and select Accept Debug Connections. Then set a breakpoint on lines 10 and 22 of example2.py:\"\n",
    "\n",
    "Copy that file into the current directory. "
   ]
  },
  {
   "cell_type": "code",
   "execution_count": 5,
   "metadata": {
    "collapsed": false
   },
   "outputs": [
    {
     "name": "stdout",
     "output_type": "stream",
     "text": [
      "-rwxr-xr-x 1 siena siena 11859 Jun  4 23:11 wingdbstub.py\r\n"
     ]
    }
   ],
   "source": [
    "!ls -l wingdbstub.py"
   ]
  },
  {
   "cell_type": "markdown",
   "metadata": {},
   "source": [
    "Make sure you have \"Accept Debug Connections\" enabled. \n",
    "\n",
    "Then we import ``wingdbstub``. "
   ]
  },
  {
   "cell_type": "code",
   "execution_count": 6,
   "metadata": {
    "collapsed": true
   },
   "outputs": [],
   "source": [
    "import wingdbstub, os"
   ]
  },
  {
   "cell_type": "markdown",
   "metadata": {},
   "source": [
    "This checks if the debug connection is OK."
   ]
  },
  {
   "cell_type": "code",
   "execution_count": 7,
   "metadata": {
    "collapsed": false
   },
   "outputs": [
    {
     "data": {
      "text/plain": [
       "True"
      ]
     },
     "execution_count": 7,
     "metadata": {},
     "output_type": "execute_result"
    }
   ],
   "source": [
    "'WINGDB_ACTIVE' in os.environ"
   ]
  },
  {
   "cell_type": "markdown",
   "metadata": {},
   "source": [
    "Now we run ``foo()`` again and WingIDE will stop at the breakpoint."
   ]
  },
  {
   "cell_type": "code",
   "execution_count": 8,
   "metadata": {
    "collapsed": false
   },
   "outputs": [
    {
     "data": {
      "text/plain": [
       "'bar'"
      ]
     },
     "execution_count": 8,
     "metadata": {},
     "output_type": "execute_result"
    }
   ],
   "source": [
    "foo()"
   ]
  },
  {
   "cell_type": "markdown",
   "metadata": {},
   "source": [
    "Also the variable ``hello`` is set."
   ]
  },
  {
   "cell_type": "code",
   "execution_count": 9,
   "metadata": {
    "collapsed": false
   },
   "outputs": [
    {
     "data": {
      "text/plain": [
       "'Hello, world.'"
      ]
     },
     "execution_count": 9,
     "metadata": {},
     "output_type": "execute_result"
    }
   ],
   "source": [
    "hello"
   ]
  },
  {
   "cell_type": "markdown",
   "metadata": {},
   "source": [
    "## What doesn't work\n",
    "\n",
    "Sharing variables between the notebook and WingIDE does not work. \n",
    "\n",
    "### A variable defined in the notebook\n",
    "\n",
    "Let's say we change ``hello``. What does the ``greeting()`` method return?"
   ]
  },
  {
   "cell_type": "code",
   "execution_count": 10,
   "metadata": {
    "collapsed": true
   },
   "outputs": [],
   "source": [
    "hello = \"Hi you\""
   ]
  },
  {
   "cell_type": "code",
   "execution_count": 11,
   "metadata": {
    "collapsed": false
   },
   "outputs": [
    {
     "data": {
      "text/plain": [
       "'Hello, world.'"
      ]
     },
     "execution_count": 11,
     "metadata": {},
     "output_type": "execute_result"
    }
   ],
   "source": [
    "greeting()"
   ]
  },
  {
   "cell_type": "markdown",
   "metadata": {},
   "source": [
    "That the value from the the .py file not from the notebook :-("
   ]
  },
  {
   "cell_type": "markdown",
   "metadata": {},
   "source": [
    "Of course it is possible the modify a reference object."
   ]
  },
  {
   "cell_type": "code",
   "execution_count": 12,
   "metadata": {
    "collapsed": false
   },
   "outputs": [
    {
     "data": {
      "text/plain": [
       "[1, 'bar']"
      ]
     },
     "execution_count": 12,
     "metadata": {},
     "output_type": "execute_result"
    }
   ],
   "source": [
    "one = [1]\n",
    "change_list(one)\n",
    "one"
   ]
  },
  {
   "cell_type": "markdown",
   "metadata": {},
   "source": [
    "### A variable defined in the .py file\n",
    "\n",
    "Can we change the ``hello`` variable defined in helpers.py?"
   ]
  },
  {
   "cell_type": "code",
   "execution_count": 13,
   "metadata": {
    "collapsed": true
   },
   "outputs": [],
   "source": [
    "set_greeting(\"Hola\")"
   ]
  },
  {
   "cell_type": "code",
   "execution_count": 14,
   "metadata": {
    "collapsed": false
   },
   "outputs": [
    {
     "data": {
      "text/plain": [
       "'Hello, world.'"
      ]
     },
     "execution_count": 14,
     "metadata": {},
     "output_type": "execute_result"
    }
   ],
   "source": [
    "greeting()"
   ]
  },
  {
   "cell_type": "markdown",
   "metadata": {},
   "source": [
    "No. hello still refers to the old value. "
   ]
  },
  {
   "cell_type": "markdown",
   "metadata": {},
   "source": [
    "And what about hello in the nobook? "
   ]
  },
  {
   "cell_type": "code",
   "execution_count": 15,
   "metadata": {
    "collapsed": false
   },
   "outputs": [
    {
     "data": {
      "text/plain": [
       "'Hi you'"
      ]
     },
     "execution_count": 15,
     "metadata": {},
     "output_type": "execute_result"
    }
   ],
   "source": [
    "hello"
   ]
  },
  {
   "cell_type": "markdown",
   "metadata": {},
   "source": [
    "Still unchanged."
   ]
  },
  {
   "cell_type": "markdown",
   "metadata": {},
   "source": [
    "### Summary\n",
    "\n",
    "This setup helps debugging code in imported .py files. \n",
    "\n",
    "It does not allow accessing variables on the \"other\" side. ",
    "\n",
    "Suggestions welcome. "
   ]
  }
 ],
 "metadata": {
  "kernelspec": {
   "display_name": "Python 3",
   "language": "python",
   "name": "python3"
  },
  "language_info": {
   "codemirror_mode": {
    "name": "ipython",
    "version": 3
   },
   "file_extension": ".py",
   "mimetype": "text/x-python",
   "name": "python",
   "nbconvert_exporter": "python",
   "pygments_lexer": "ipython3",
   "version": "3.4.4"
  }
 },
 "nbformat": 4,
 "nbformat_minor": 0
}
